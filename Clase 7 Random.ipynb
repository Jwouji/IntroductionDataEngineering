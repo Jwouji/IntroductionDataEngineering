{
  "cells": [
    {
      "cell_type": "markdown",
      "metadata": {
        "id": "view-in-github",
        "colab_type": "text"
      },
      "source": [
        "<a href=\"https://colab.research.google.com/github/Jwouji/IntroductionDataEngineering/blob/main/Clase%207%20Random.ipynb\" target=\"_parent\"><img src=\"https://colab.research.google.com/assets/colab-badge.svg\" alt=\"Open In Colab\"/></a>"
      ]
    },
    {
      "cell_type": "markdown",
      "source": [
        "# Elecciones en 2 caminos random\n",
        "\n",
        "## Pseudocodigo\n",
        "\n",
        "1. Inicio\n",
        "2. Recibir una entrada aleatoria\n",
        "3. El usurario ingresa una de las 3 entradas\n",
        "4. Comprobamos si la dirección del portero y la dirección del balon son identicas\n",
        "5. Si son identicas imprimir \"Atajada\"\n",
        "6. Si son diferentes, imprime \"GOOOOL!!\"\n",
        "7. FIN\n"
      ],
      "metadata": {
        "id": "-92vFXZw-YeJ"
      }
    },
    {
      "cell_type": "code",
      "source": [
        "import random\n",
        "\n",
        "n = random.randint(1, 3)\n",
        "\n",
        "if n == 1:\n",
        "    computer_choise = 'Left'\n",
        "elif n == 2:\n",
        "    computer_choise = 'Middle'\n",
        "else:\n",
        "    computer_choise = 'Right'\n",
        "\n",
        "user_choise = input('¿A cual lado patear? (Left, Middle, Right)');\n",
        "\n",
        "if computer_choise == user_choise:\n",
        "    print('Atajada')\n",
        "else:\n",
        "    print('Golllllllllll NJDAAAAAAAAAAAAAAAAAAAAAAAAAAAAAAAAAAFGEIUFHEWOIDFEGRIUEQWOYHDFEUWFGUI');\n",
        "\n",
        "print('El PC eligio:', computer_choise);"
      ],
      "metadata": {
        "colab": {
          "base_uri": "https://localhost:8080/"
        },
        "id": "-i9xixsw-hKa",
        "outputId": "5174e3aa-805e-4e3a-8895-54fbaa27b99a"
      },
      "execution_count": null,
      "outputs": [
        {
          "output_type": "stream",
          "name": "stdout",
          "text": [
            "¿A cual lado patear? (Left, Middle, Right)Middle\n",
            "Atajada\n",
            "El PC eligio: Middle\n"
          ]
        }
      ]
    }
  ],
  "metadata": {
    "colab": {
      "toc_visible": true,
      "provenance": [],
      "include_colab_link": true
    },
    "kernelspec": {
      "display_name": "Python 3",
      "name": "python3"
    }
  },
  "nbformat": 4,
  "nbformat_minor": 0
}