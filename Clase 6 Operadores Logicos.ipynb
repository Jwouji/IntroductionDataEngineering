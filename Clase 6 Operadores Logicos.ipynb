{
  "cells": [
    {
      "cell_type": "markdown",
      "metadata": {
        "id": "view-in-github",
        "colab_type": "text"
      },
      "source": [
        "<a href=\"https://colab.research.google.com/github/Jwouji/IntroductionDataEngineering/blob/main/Clase%206%20Operadores%20Logicos.ipynb\" target=\"_parent\"><img src=\"https://colab.research.google.com/assets/colab-badge.svg\" alt=\"Open In Colab\"/></a>"
      ]
    },
    {
      "cell_type": "markdown",
      "source": [],
      "metadata": {
        "id": "_BTmta7rXM7R"
      }
    },
    {
      "cell_type": "markdown",
      "source": [
        "# Operadores Logicos and (&&), or (||), not (!)"
      ],
      "metadata": {
        "id": "6_ybpu-zXdCx"
      }
    },
    {
      "cell_type": "code",
      "source": [
        "x = True;\n",
        "y = False;\n",
        "\n",
        "print(x and y);\n",
        "print(x or y);\n",
        "print(not x);\n",
        "print(not y);\n",
        "\n",
        "print('');\n",
        "\n",
        "print(not x and y);\n",
        "print(x or not y);"
      ],
      "metadata": {
        "id": "rbI9ivuRXXXg"
      },
      "execution_count": null,
      "outputs": []
    },
    {
      "cell_type": "code",
      "source": [
        "num = int(input('Digite um numero: '));\n",
        "result = (num >= 0 and num <= 100 and num % 2 == 0);\n",
        "print(\"¿El numero ingresado cumple con ser par y estar entre 0 y 100?\", result);"
      ],
      "metadata": {
        "id": "HviW-0RjYBTB"
      },
      "execution_count": null,
      "outputs": []
    },
    {
      "cell_type": "markdown",
      "source": [
        "## Para el caso del numero 99:\n",
        "\n",
        "- num es mayor a 0 pero menor que 100, por lo que la primera y segunda ecuacion devuelve True\n",
        "- En la tercera ecuacion, num tiene un residuo de 1, por que 1 == 0 se devuelve como False\n",
        "- el operador logico and devuelve True cuando todos los valores son True; por lo tanto, devuelve False\n",
        "\n",
        "tabla para el operador logico \"and\"\n",
        "\n",
        "|a|b|c|d|e|salida|\n",
        "|-|-|-|-|-|------|\n",
        "|0|0|0|0|0|0|\n",
        "|0|0|0|0|1|0|\n",
        "|0|0|0|1|1|0|\n",
        "|0|0|1|1|1|0|\n",
        "|0|1|1|1|1|0|\n",
        "|1|1|1|1|1|1|\n",
        "\n",
        "Hint: 0 es false, 1 es True\n",
        "\n",
        "\n",
        "Tabla de verdad para operador logico `or `\n",
        "\n",
        "|a|b|c|d|e|salida|\n",
        "|-|-|-|-|-|------|\n",
        "|0|0|0|0|0|0|\n",
        "|0|0|0|0|1|1|\n",
        "|0|0|0|1|1|1|\n",
        "|0|0|1|1|1|1|\n",
        "|0|1|1|1|1|1|\n",
        "|1|1|1|1|1|1|\n",
        "\n",
        "\n",
        "Hint: 0 es false, 1 es True\n",
        "\n",
        "# operador not\n",
        "\n",
        "|a|not a|\n",
        "|-|-|\n",
        "|0|1|\n",
        "|1|0|\n",
        "    \n",
        "\n",
        "|a|b|not (a and b)|\n",
        "|-|-|-|\n",
        "|0|0|1|\n",
        "|1|1|0|\n",
        "\n",
        "|a|b|not ( a or b)\n",
        "|-|-|-|\n",
        "|0|1|0|\n",
        "|1|0|0|"
      ],
      "metadata": {
        "id": "MSYZYJTaYFXR"
      }
    },
    {
      "cell_type": "markdown",
      "source": [
        "## Ejercicio - Taller\n",
        "\n",
        "vamos a crear la simulacion a baja escala de una loteria deber seguir los siguientes pasos\n",
        "\n",
        "recibir 3 numeros del usuario\n",
        "\n",
        "definir (amañar) los numeros ganadores de la loteria (abc)\n",
        "\n",
        "si el numero del usuario coincide totalmente con los numeros de la loteria, gana el premio mayor (imprime un mensaje) -> usuario ingresa 123 y la loteria es 123, gana premio mayor\n",
        "\n",
        "si el numero coincide en desorden con el de la loteria, gana el segundo premio (imprimir un mensaje) -> gana segundo premio\n",
        "\n",
        "a partir del numero de aciertos ( sin importar el orden) los premios seran repartidos dos acierdos reciden tercer premio, 1 acierto recibe premio consolacion, 0 aciertos perdio la plata\n"
      ],
      "metadata": {
        "id": "VVqlmSscYMRQ"
      }
    },
    {
      "cell_type": "code",
      "source": [
        "a = int(input('Ingrese un numero: '));\n",
        "b = int(input('Ingrese otro numero: '));\n",
        "c = int(input('Ingrese otro numero: '));\n",
        "loteria = [1,2,3];\n",
        "\n",
        "if a == loteria[0] and b == loteria[1] and c == loteria[2]:\n",
        "  print(\"La loteria es 123, Gana premio mayor\");\n",
        "elif (a and b and c == loteria[0] and loteria[1] and loteria[2]) and (a != b and a != c and c != b):\n",
        "  print('Gana segundo premio')\n",
        "elif (a and b in loteria) or (a and c in loteria) or ( c and b in loteria):\n",
        "  print('Gana tercer premio')\n",
        "elif (a or b or c in loteria):\n",
        "  print('Gana premio consolacion');\n",
        "else:\n",
        "  print(\"perdiste\");\n"
      ],
      "metadata": {
        "id": "2zFw88t2YQdI"
      },
      "execution_count": null,
      "outputs": []
    }
  ],
  "metadata": {
    "colab": {
      "toc_visible": true,
      "provenance": [],
      "include_colab_link": true
    },
    "kernelspec": {
      "display_name": "Python 3",
      "name": "python3"
    }
  },
  "nbformat": 4,
  "nbformat_minor": 0
}