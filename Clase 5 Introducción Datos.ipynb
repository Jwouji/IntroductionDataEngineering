{
  "cells": [
    {
      "cell_type": "markdown",
      "metadata": {
        "id": "view-in-github",
        "colab_type": "text"
      },
      "source": [
        "<a href=\"https://colab.research.google.com/github/Jwouji/IntroductionDataEngineering/blob/main/Clase%205%20Introducci%C3%B3n%20Datos.ipynb\" target=\"_parent\"><img src=\"https://colab.research.google.com/assets/colab-badge.svg\" alt=\"Open In Colab\"/></a>"
      ]
    },
    {
      "cell_type": "code",
      "execution_count": null,
      "metadata": {
        "colab": {
          "base_uri": "https://localhost:8080/"
        },
        "id": "Uw0SYjZN5cL_",
        "outputId": "b2a5f6cb-31b6-4343-f83a-ba07db6cbd5c"
      },
      "outputs": [
        {
          "name": "stdout",
          "output_type": "stream",
          "text": [
            "1024\n",
            "20\n",
            "0\n",
            "11\n",
            "15\n",
            "(5+9j)\n",
            "(0.7804878048780489+0.02439024390243905j)\n"
          ]
        }
      ],
      "source": [
        "print(2**10); # potencia\n",
        "print(2*10); # multiplicación\n",
        "print(40%2); # operador modulo es el resudio de la division\n",
        "print(1 + 2 * 5);\n",
        "print((1 + 2)* 5);\n",
        "# operaciones con numeros imaginarios\n",
        "print((3 + 4j) + (2 + 5j));\n",
        "print((3 + 4j) / (4 + 5j));"
      ]
    },
    {
      "cell_type": "markdown",
      "metadata": {
        "id": "Sg5WhcSv8XDt"
      },
      "source": [
        "* / -> Valor total de la división\n",
        "* // -> Valor entero del cociente\n",
        "* % residuo de la divisiòn\n"
      ]
    },
    {
      "cell_type": "code",
      "execution_count": null,
      "metadata": {
        "colab": {
          "base_uri": "https://localhost:8080/"
        },
        "id": "JSu5Px4N9Ava",
        "outputId": "296523cb-f3bb-4931-e315-2d5620bc4bfd"
      },
      "outputs": [
        {
          "name": "stdout",
          "output_type": "stream",
          "text": [
            "27.5\n",
            "27\n",
            "1\n",
            "\"hola mundo\"\n",
            "\"Hola mundo\"\n",
            "Hola \n",
            "Mundo\n",
            "Hola \tMundo\n",
            "Hola \b\b\b\bMundo\n"
          ]
        }
      ],
      "source": [
        "print(55 / 2);\n",
        "print(55// 2);\n",
        "print(55 % 2);\n",
        "# Ejemplos Print\n",
        "print('\"hola mundo\"');\n",
        "print(\"\\\"Hola mundo\\\"\");\n",
        "print('Hola \\nMundo'); # el \\n hace un salto de linea\n",
        "print('Hola \\tMundo'); # el \\t es como un tabulador\n",
        "print('Hola \\b\\b\\b\\bMundo'); # el \\b quita el caracter de la izquierda\n",
        "\n",
        "\n"
      ]
    },
    {
      "cell_type": "markdown",
      "metadata": {
        "id": "NcFQfd3W_jM6"
      },
      "source": [
        "# Palabras reservadas en python"
      ]
    },
    {
      "cell_type": "code",
      "execution_count": null,
      "metadata": {
        "colab": {
          "base_uri": "https://localhost:8080/"
        },
        "id": "CpAgbu2I_nxR",
        "outputId": "1c8d4d6f-b475-4ebd-8f13-5c8181bb21de"
      },
      "outputs": [
        {
          "name": "stdout",
          "output_type": "stream",
          "text": [
            "['False', 'None', 'True', 'and', 'as', 'assert', 'async', 'await', 'break', 'class', 'continue', 'def', 'del', 'elif', 'else', 'except', 'finally', 'for', 'from', 'global', 'if', 'import', 'in', 'is', 'lambda', 'nonlocal', 'not', 'or', 'pass', 'raise', 'return', 'try', 'while', 'with', 'yield']\n"
          ]
        }
      ],
      "source": [
        "import keyword;\n",
        "\n",
        "print(keyword.kwlist);"
      ]
    },
    {
      "cell_type": "markdown",
      "metadata": {
        "id": "aHZWGXCPAlSZ"
      },
      "source": [
        "#Asignación secundaria en python"
      ]
    },
    {
      "cell_type": "code",
      "execution_count": null,
      "metadata": {
        "colab": {
          "base_uri": "https://localhost:8080/"
        },
        "id": "CmY3aKCEAqpL",
        "outputId": "9b54ecb5-b3cc-4ad7-cb54-dc06b63f61bc"
      },
      "outputs": [
        {
          "name": "stdout",
          "output_type": "stream",
          "text": [
            "200\n"
          ]
        }
      ],
      "source": [
        "num1 = num2 = num3 = 200 # asignaciòn simultanea\n",
        "print(num2)"
      ]
    },
    {
      "cell_type": "code",
      "execution_count": null,
      "metadata": {
        "colab": {
          "base_uri": "https://localhost:8080/"
        },
        "id": "zHB0RnA8BpK4",
        "outputId": "f54f3892-1c2d-4819-fdb2-dc61707bc47d"
      },
      "outputs": [
        {
          "name": "stdout",
          "output_type": "stream",
          "text": [
            "insert year2016\n",
            "True\n"
          ]
        }
      ],
      "source": [
        "year = int(input(\"insert year\"));\n",
        "leap_year = (year % 4 == 0) and (year % 100 != 0 or year % 400 == 0);\n",
        "print(leap_year);"
      ]
    },
    {
      "cell_type": "markdown",
      "metadata": {
        "id": "5kFxzhSGCpkT"
      },
      "source": [
        "# Operadores de comprobacion"
      ]
    },
    {
      "cell_type": "code",
      "execution_count": null,
      "metadata": {
        "colab": {
          "base_uri": "https://localhost:8080/"
        },
        "id": "7ODhWh4pCsUa",
        "outputId": "432c577c-1e50-441c-ca47-70d21850fe3d"
      },
      "outputs": [
        {
          "name": "stdout",
          "output_type": "stream",
          "text": [
            "Resultado de 10>5:  False\n",
            "Resultado de 10<5:  False\n",
            "Resultado de 10==5:  False\n",
            "Resultado de 10!=5:  True\n",
            "Resultado de 'a' > 'b':  False\n"
          ]
        }
      ],
      "source": [
        "print('Resultado de 10>5: ', 10<5);\n",
        "print('Resultado de 10<5: ', 10<5);\n",
        "print('Resultado de 10==5: ', 10==5); # == son iguales\n",
        "print('Resultado de 10!=5: ', 10!=5); #! = significan si son difentes numeros\n",
        "print(\"Resultado de 'a' > 'b': \", 'a' > 'b'); # esto da false porque el codigo\n",
        "# ASCII dice que a es 97 y b es 98, ademas no son enteros pq tienen las comillas\n",
        "# del string\n"
      ]
    },
    {
      "cell_type": "code",
      "execution_count": null,
      "metadata": {
        "colab": {
          "base_uri": "https://localhost:8080/"
        },
        "id": "tZ0rdbSjFGZy",
        "outputId": "98c9f3a6-9bfd-4728-d2b9-c3e8a04c46b2"
      },
      "outputs": [
        {
          "name": "stdout",
          "output_type": "stream",
          "text": [
            "False\n",
            "True\n",
            "True\n",
            "False\n"
          ]
        }
      ],
      "source": [
        "print(bool(0))\n",
        "print(bool(1))\n",
        "print(bool(True))\n",
        "print(bool(False))"
      ]
    },
    {
      "cell_type": "markdown",
      "metadata": {
        "id": "CRkibKuiFf57"
      },
      "source": [
        "#Ejercicio\n",
        "\n",
        "En la escuela las calificaciones de los estudiantes se calculan de la siguiente manera:\n",
        "\n",
        "1. Los estudianres realizan 4 examenes a lo largo del semestre\n",
        "2. cada examen tiene una calificación maxima de 100 puntos\n",
        "3. La calificaciòn final de un estudiante se calcula de los 4 examenes y dividiendo el total entre 4 para obtener el promedio\n",
        "\n",
        "Tu tarea es escribir programa en python que:\n",
        "\n",
        "1. Solicite al usuario ingresar las calificaciones de los 4 estudiantes\n",
        "2. Calcule y muestre el promedio de las calificaciones\n",
        "3. Compare el promedio con el punto de aprobaciòn (60 puntos) e indique si el estudiante aprueba o no\n",
        "4. realiza las siguientes operaciones con el promedio:\n",
        "- Asigna el valor del promedio a una nueva variable 'Calificacion_final'\n",
        "- Multiplica 'Calificacion_final' por 1.1 (un aunmento del 10%)\n",
        "- compara 'Calificacion_final' con el puntaje de excelencia (90 puntos) e indica si el estudiante alcanzo la excelencia\n",
        "\n",
        "**Pista** Utiliza operadores de asignaciòn (=, +=, -=, *=, /=), aritmeticos (+, -, *, /) y de comparaciòn (>, <, >=, <=, ==, !=)"
      ]
    },
    {
      "cell_type": "code",
      "execution_count": null,
      "metadata": {
        "colab": {
          "background_save": true,
          "base_uri": "https://localhost:8080/"
        },
        "id": "nEX2ydCRFhua",
        "outputId": "69bad25d-946d-4b79-8549-19c5c67cda94"
      },
      "outputs": [
        {
          "name": "stdout",
          "output_type": "stream",
          "text": [
            "La calificacion no puede ser mayor a 100\n"
          ]
        }
      ],
      "source": [
        "a = int(input(\"Ingrese la calificacion del primer examen: \"));\n",
        "if a > 100:\n",
        "  print(\"La calificacion no puede ser mayor a 100\");\n",
        "  a = int(input(\"Ingrese la calificacion del primer examen: \"));\n",
        "\n",
        "b = int(input(\"Ingrese la calificacion del segundo examen: \"));\n",
        "if b > 100:\n",
        "  print(\"La calificacion no puede ser mayor a 100\");\n",
        "  b = int(input(\"Ingrese la calificacion del segundo examen: \"));\n",
        "\n",
        "c = int(input(\"Ingrese la calificacion del tercer examen: \"));\n",
        "if c > 100:\n",
        "  print(\"La calificacion no puede ser mayor a 100\");\n",
        "  c = int(input(\"Ingrese la calificacion del tercer examen: \"));\n",
        "\n",
        "d = int(input(\"Ingrese la calificacion del cuarto examen: \"));\n",
        "if d > 100:\n",
        "  print(\"La calificacion no puede ser mayor a 100\");\n",
        "  d = int(input(\"Ingrese la calificacion del cuarto examen: \"));3\n",
        "\n",
        "promedio = (a + b + c + d) / 4;\n",
        "\n",
        "print(\"El promedio es: \", promedio);\n",
        "\n",
        "if promedio >= 60:\n",
        "  print(\"El estudiante aprueba\");\n",
        "else:\n",
        "  print(\"El estudiante no aprueba\");\n",
        "\n",
        "calificacion_final = promedio * 1.1;\n",
        "\n",
        "print(\"La calificacion final es: \", calificacion_final);\n",
        "\n",
        "if calificacion_final >= 90:\n",
        "  print(\"El estudiante aprobo con excelencia\");\n",
        "else:\n",
        "  print(\"El estudiante no aprobo con excelencia\");\n"
      ]
    }
  ],
  "metadata": {
    "colab": {
      "provenance": [],
      "include_colab_link": true
    },
    "kernelspec": {
      "display_name": "Python 3",
      "name": "python3"
    }
  },
  "nbformat": 4,
  "nbformat_minor": 0
}