{
  "nbformat": 4,
  "nbformat_minor": 0,
  "metadata": {
    "colab": {
      "provenance": [],
      "toc_visible": true,
      "authorship_tag": "ABX9TyNYIYWNX/vst9niWaYkfYzx",
      "include_colab_link": true
    },
    "kernelspec": {
      "name": "python3",
      "display_name": "Python 3"
    },
    "language_info": {
      "name": "python"
    }
  },
  "cells": [
    {
      "cell_type": "markdown",
      "metadata": {
        "id": "view-in-github",
        "colab_type": "text"
      },
      "source": [
        "<a href=\"https://colab.research.google.com/github/Jwouji/IntroductionDataEngineering/blob/main/Clase%204%20Python%20Consejos.ipynb\" target=\"_parent\"><img src=\"https://colab.research.google.com/assets/colab-badge.svg\" alt=\"Open In Colab\"/></a>"
      ]
    },
    {
      "cell_type": "code",
      "execution_count": 2,
      "metadata": {
        "colab": {
          "base_uri": "https://localhost:8080/"
        },
        "id": "ndTaR4CTU6ku",
        "outputId": "7e0fcf7b-2781-41e2-91e6-4e2d8aa8a187"
      },
      "outputs": [
        {
          "output_type": "stream",
          "name": "stdout",
          "text": [
            "100 400 red yellow green\n"
          ]
        }
      ],
      "source": [
        "# Para asignar variables es mejor seguir un orden\n",
        "width = 100;\n",
        "height = 400;\n",
        "color = 'red'\n",
        "emphasis = 'yellow'\n",
        "highlight = 'green'\n",
        "\n",
        "print(width, height, color, emphasis, highlight);\n",
        "# si hay dos comas seguidas es error de sintaxis"
      ]
    },
    {
      "cell_type": "code",
      "source": [
        "a = [ 1, 2, 3] # Aplicar espacios-separación para hacerlo mas legible\n",
        "print(a)"
      ],
      "metadata": {
        "colab": {
          "base_uri": "https://localhost:8080/"
        },
        "id": "nG-6TXXQaUWx",
        "outputId": "0cad2764-1998-4f9a-9f9e-d19bb29ceeed"
      },
      "execution_count": 4,
      "outputs": [
        {
          "output_type": "stream",
          "name": "stdout",
          "text": [
            "[1, 2, 3]\n"
          ]
        }
      ]
    },
    {
      "cell_type": "markdown",
      "source": [
        "hola_mundo -> snake_case -> python\n",
        "(variables y funciones)\n",
        "\n",
        "holamundo -> camelCase\n",
        "\n",
        "holaMundo -> PascalCase -> Python (class)"
      ],
      "metadata": {
        "id": "XWyHcgtXcuNA"
      }
    },
    {
      "cell_type": "code",
      "source": [
        "float = 's';\n",
        "print(float);\n",
        "float('10, 0');\n",
        "# no declarar variables como funciones\n",
        "\n"
      ],
      "metadata": {
        "colab": {
          "base_uri": "https://localhost:8080/",
          "height": 106
        },
        "id": "aZMcTpJveEZX",
        "outputId": "aa140524-8b68-4672-a41d-04d74ca9a9f8"
      },
      "execution_count": 16,
      "outputs": [
        {
          "output_type": "error",
          "ename": "SyntaxError",
          "evalue": "invalid syntax (<ipython-input-16-885f1942b47c>, line 6)",
          "traceback": [
            "\u001b[0;36m  File \u001b[0;32m\"<ipython-input-16-885f1942b47c>\"\u001b[0;36m, line \u001b[0;32m6\u001b[0m\n\u001b[0;31m    def = 1200\u001b[0m\n\u001b[0m        ^\u001b[0m\n\u001b[0;31mSyntaxError\u001b[0m\u001b[0;31m:\u001b[0m invalid syntax\n"
          ]
        }
      ]
    },
    {
      "cell_type": "code",
      "source": [
        "def = 1200;\n",
        "print(def);\n",
        "# otro ejemplo"
      ],
      "metadata": {
        "colab": {
          "base_uri": "https://localhost:8080/",
          "height": 106
        },
        "id": "8Y4j4gZaeoMB",
        "outputId": "84f6932a-a0fd-4e7b-e111-07b197a2f138"
      },
      "execution_count": 17,
      "outputs": [
        {
          "output_type": "error",
          "ename": "SyntaxError",
          "evalue": "invalid syntax (<ipython-input-17-e558696bd947>, line 1)",
          "traceback": [
            "\u001b[0;36m  File \u001b[0;32m\"<ipython-input-17-e558696bd947>\"\u001b[0;36m, line \u001b[0;32m1\u001b[0m\n\u001b[0;31m    def = 1200\u001b[0m\n\u001b[0m        ^\u001b[0m\n\u001b[0;31mSyntaxError\u001b[0m\u001b[0;31m:\u001b[0m invalid syntax\n"
          ]
        }
      ]
    },
    {
      "cell_type": "code",
      "source": [
        "4number = 4\n",
        "my list = []\n",
        "--code__ = 123\n",
        "for loop = 'last iteration'\n",
        "print(4number, my list, --code__, for loop);\n",
        "# las variables NO pueden inciar por numero, tener un espacio, hacer un\n",
        "# decremento y usar una palabra reservada"
      ],
      "metadata": {
        "colab": {
          "base_uri": "https://localhost:8080/",
          "height": 106
        },
        "id": "h8wtPRrffzWP",
        "outputId": "718299ff-3cc3-474a-fa0a-63811edf2312"
      },
      "execution_count": 29,
      "outputs": [
        {
          "output_type": "error",
          "ename": "SyntaxError",
          "evalue": "invalid decimal literal (<ipython-input-29-b2960fb7868e>, line 1)",
          "traceback": [
            "\u001b[0;36m  File \u001b[0;32m\"<ipython-input-29-b2960fb7868e>\"\u001b[0;36m, line \u001b[0;32m1\u001b[0m\n\u001b[0;31m    4number = 4\u001b[0m\n\u001b[0m    ^\u001b[0m\n\u001b[0;31mSyntaxError\u001b[0m\u001b[0;31m:\u001b[0m invalid decimal literal\n"
          ]
        }
      ]
    },
    {
      "cell_type": "code",
      "source": [
        "try\n",
        "  4number = 4;\n",
        "  my list = [];\n",
        "  --code__ = 123;\n",
        "  for loop = 'last iteration';\n",
        "  print(4number, my list, --code__, for loop);\n",
        "except SyntaxError as e:\n",
        "  print(\"error de capa 8 (usuario): \", e);\n",
        "\n",
        "  #Cuando el error es por parte del programador, la función syntax error, no va\n",
        "  # a funcionar"
      ],
      "metadata": {
        "colab": {
          "base_uri": "https://localhost:8080/",
          "height": 106
        },
        "id": "CRcEW_kNgt9i",
        "outputId": "62bde276-d3e6-4bbe-a1db-218adc44251f"
      },
      "execution_count": 30,
      "outputs": [
        {
          "output_type": "error",
          "ename": "SyntaxError",
          "evalue": "invalid decimal literal (<ipython-input-30-9c45e08aeb8c>, line 2)",
          "traceback": [
            "\u001b[0;36m  File \u001b[0;32m\"<ipython-input-30-9c45e08aeb8c>\"\u001b[0;36m, line \u001b[0;32m2\u001b[0m\n\u001b[0;31m    4number = 4;\u001b[0m\n\u001b[0m    ^\u001b[0m\n\u001b[0;31mSyntaxError\u001b[0m\u001b[0;31m:\u001b[0m invalid decimal literal\n"
          ]
        }
      ]
    },
    {
      "cell_type": "markdown",
      "source": [
        "# Ejercicio 1\n"
      ],
      "metadata": {
        "id": "VUYhgZzAjDnS"
      }
    },
    {
      "cell_type": "code",
      "source": [
        "# metodo 1\n",
        "print(\"    *      \");\n",
        "print(\"   ***     \");\n",
        "print(\"  *****    \");\n",
        "print(\" *******   \");\n",
        "print(\"  *****    \");\n",
        "print(\"   ***     \");\n",
        "print(\"    *      \");\n",
        "# metodo 2\n",
        "print(\" \" * 4 + \"*\" * 1);\n",
        "print(\" \" * 3 + \"*\" * 3);\n",
        "print(\" \" * 2 + \"*\" * 5);\n",
        "print(\" \" * 1 + \"*\" * 7);"
      ],
      "metadata": {
        "colab": {
          "base_uri": "https://localhost:8080/"
        },
        "id": "UAXMJoTmjGZH",
        "outputId": "7545df4b-1916-4efe-fdcf-203715878e8b"
      },
      "execution_count": 32,
      "outputs": [
        {
          "output_type": "stream",
          "name": "stdout",
          "text": [
            "    *      \n",
            "   ***     \n",
            "  *****    \n",
            " *******   \n",
            "  *****    \n",
            "   ***     \n",
            "    *      \n",
            "    *\n",
            "   ***\n",
            "  *****\n",
            " *******\n"
          ]
        }
      ]
    },
    {
      "cell_type": "markdown",
      "source": [
        "# Funciones"
      ],
      "metadata": {
        "id": "w0VkqhN8lrfS"
      }
    },
    {
      "cell_type": "code",
      "source": [
        "row = int(input(\"Ingrese el numero de filas: \"));\n",
        "col = int(input(\"Ingrese el numero de columnas: \"));\n",
        "\n",
        "def print_charts(cols):\n",
        "  print(' ' * (int(cols/ 2) - i), '*' * ((i * 2) - 1));\n",
        "\n",
        "for i in range (1, int(row /2) + 1):\n",
        "  print_charts(col);\n",
        "\n",
        "for i in range (int(row /2) + 1, 0, -1):\n",
        "  print_charts(col);\n",
        "\n",
        "#i es el numero de la iteración"
      ],
      "metadata": {
        "colab": {
          "base_uri": "https://localhost:8080/"
        },
        "id": "gfPlPhVvlvKf",
        "outputId": "c29d6340-644e-48e1-8afe-25d32c707c48"
      },
      "execution_count": 46,
      "outputs": [
        {
          "output_type": "stream",
          "name": "stdout",
          "text": [
            "Ingrese el numero de filas: 6\n",
            "Ingrese el numero de columnas: 9\n",
            "    *\n",
            "   ***\n",
            "  *****\n",
            " *******\n",
            "  *****\n",
            "   ***\n",
            "    *\n"
          ]
        }
      ]
    },
    {
      "cell_type": "code",
      "source": [
        "print(0 + 'hola');\n",
        "print([ 1, 2, 3] + 3);\n",
        "# no puedes concatenar 2 tipos de datos diferentes :)"
      ],
      "metadata": {
        "colab": {
          "base_uri": "https://localhost:8080/",
          "height": 159
        },
        "id": "lS35sOgnu0Gg",
        "outputId": "825b7a9a-2791-4fec-d01b-f27b8eaf1f70"
      },
      "execution_count": 49,
      "outputs": [
        {
          "output_type": "error",
          "ename": "TypeError",
          "evalue": "unsupported operand type(s) for +: 'int' and 'str'",
          "traceback": [
            "\u001b[0;31m---------------------------------------------------------------------------\u001b[0m",
            "\u001b[0;31mTypeError\u001b[0m                                 Traceback (most recent call last)",
            "\u001b[0;32m<ipython-input-49-00b3e3d67e00>\u001b[0m in \u001b[0;36m<cell line: 0>\u001b[0;34m()\u001b[0m\n\u001b[0;32m----> 1\u001b[0;31m \u001b[0mprint\u001b[0m\u001b[0;34m(\u001b[0m\u001b[0;36m0\u001b[0m \u001b[0;34m+\u001b[0m \u001b[0;34m'hola'\u001b[0m\u001b[0;34m)\u001b[0m\u001b[0;34m;\u001b[0m\u001b[0;34m\u001b[0m\u001b[0;34m\u001b[0m\u001b[0m\n\u001b[0m\u001b[1;32m      2\u001b[0m \u001b[0mprint\u001b[0m\u001b[0;34m(\u001b[0m\u001b[0;34m[\u001b[0m \u001b[0;36m1\u001b[0m\u001b[0;34m,\u001b[0m \u001b[0;36m2\u001b[0m\u001b[0;34m,\u001b[0m \u001b[0;36m3\u001b[0m\u001b[0;34m]\u001b[0m \u001b[0;34m+\u001b[0m \u001b[0;36m3\u001b[0m\u001b[0;34m)\u001b[0m\u001b[0;34m;\u001b[0m\u001b[0;34m\u001b[0m\u001b[0;34m\u001b[0m\u001b[0m\n",
            "\u001b[0;31mTypeError\u001b[0m: unsupported operand type(s) for +: 'int' and 'str'"
          ]
        }
      ]
    },
    {
      "cell_type": "code",
      "source": [
        "print('0', '9', sep='---');\n",
        "print([ 1, 2, 3] + [ 4, 5, 6]);"
      ],
      "metadata": {
        "colab": {
          "base_uri": "https://localhost:8080/"
        },
        "id": "ykz_P_fRv70w",
        "outputId": "895e0e60-7701-422a-93c6-791fc0e499ba"
      },
      "execution_count": 54,
      "outputs": [
        {
          "output_type": "stream",
          "name": "stdout",
          "text": [
            "0---9\n",
            "[1, 2, 3, 4, 5, 6]\n"
          ]
        }
      ]
    }
  ]
}