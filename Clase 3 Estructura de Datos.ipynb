{
  "cells": [
    {
      "cell_type": "markdown",
      "metadata": {
        "id": "view-in-github",
        "colab_type": "text"
      },
      "source": [
        "<a href=\"https://colab.research.google.com/github/Jwouji/IntroductionDataEngineering/blob/main/Clase%203%20Estructura%20de%20Datos.ipynb\" target=\"_parent\"><img src=\"https://colab.research.google.com/assets/colab-badge.svg\" alt=\"Open In Colab\"/></a>"
      ]
    },
    {
      "cell_type": "markdown",
      "source": [
        "# Estructuras de Datos\n",
        "-------------------------------\n"
      ],
      "metadata": {
        "id": "gGHHVaDwSWQg"
      }
    },
    {
      "cell_type": "code",
      "source": [
        "class Pila:\n",
        "    def __init__(self):\n",
        "        self.items = []\n",
        "\n",
        "    def apilar(self, elemento):\n",
        "        self.items.append(elemento)\n",
        "\n",
        "    def desapilar(self):\n",
        "        if not self.esta_vacia():\n",
        "            return self.items.pop()\n",
        "        return None\n",
        "\n",
        "    def esta_vacia(self):\n",
        "        return len(self.items) == 0\n",
        "\n",
        "    def ver_tope(self):\n",
        "        if not self.esta_vacia():\n",
        "            return self.items[-1]\n",
        "        return None\n",
        "\n",
        "# Ejemplo de uso\n",
        "\n",
        "pila = Pila()\n",
        "pila.apilar(1)\n",
        "pila.apilar(2)\n",
        "pila.apilar(3)\n",
        "print(pila.desapilar())  # Salida: 3\n",
        "print(pila.ver_tope())   # Salida: 2"
      ],
      "metadata": {
        "id": "-XFfSqsCTD44",
        "colab": {
          "base_uri": "https://localhost:8080/"
        },
        "outputId": "7918b339-a983-4bd4-b5e9-62f1721223dc"
      },
      "execution_count": null,
      "outputs": [
        {
          "output_type": "stream",
          "name": "stdout",
          "text": [
            "3\n",
            "2\n"
          ]
        }
      ]
    },
    {
      "cell_type": "markdown",
      "source": [
        "# Ejercicio 1\n",
        "-----------------"
      ],
      "metadata": {
        "id": "VnaUf1UZcXG7"
      }
    },
    {
      "cell_type": "code",
      "source": [
        "n = int(input(\"Put Number \"));\n",
        "\n",
        "if(n % 2 == 0):\n",
        "  print(\"It`s Even\");\n",
        "else:\n",
        "  print(\"It`s Odd\");\n"
      ],
      "metadata": {
        "colab": {
          "base_uri": "https://localhost:8080/"
        },
        "id": "AJS_9K24cas_",
        "outputId": "3a447d38-6e3d-4056-da3d-89e9a75427d5"
      },
      "execution_count": null,
      "outputs": [
        {
          "output_type": "stream",
          "name": "stdout",
          "text": [
            "Put Number 7\n",
            "It`s Odd\n"
          ]
        }
      ]
    },
    {
      "cell_type": "markdown",
      "source": [
        "# Ejercicio 2\n",
        "-----------------------"
      ],
      "metadata": {
        "id": "Ncagbh9vd77x"
      }
    },
    {
      "cell_type": "code",
      "source": [
        "n = int(input(\"¿Cuantos números quieres mostrar?: \"))\n",
        "\n",
        "a, b = 0, 1\n",
        "\n",
        "for i in range (0, n):\n",
        "    temp = a + b\n",
        "    a, b  = b, temp\n",
        "    print(temp)"
      ],
      "metadata": {
        "colab": {
          "base_uri": "https://localhost:8080/"
        },
        "id": "b4sfgP7veCSg",
        "outputId": "d5893e7c-f8da-4d5e-9531-40115494e1d4"
      },
      "execution_count": null,
      "outputs": [
        {
          "output_type": "stream",
          "name": "stdout",
          "text": [
            "¿Cuantos números quieres mostrar?: 1\n",
            "1\n"
          ]
        }
      ]
    },
    {
      "cell_type": "markdown",
      "source": [
        "#Actividad\n",
        "-------------------"
      ],
      "metadata": {
        "id": "AfkDIyhGhkmS"
      }
    },
    {
      "cell_type": "code",
      "source": [
        "print(\"Hola\"+\" \"+\"Mundo\");\n",
        "print(30 + 50);\n",
        "print(\"Hello\" * 10);\n",
        "print(\"End\", end=\"***\");\n",
        "print(\"Palabra\",\"Separada\", sep=\"-\");\n",
        "print(\"*\" * 10);\n",
        "\n",
        "a = 10\n",
        "a += 10\n",
        "print(a);\n"
      ],
      "metadata": {
        "colab": {
          "base_uri": "https://localhost:8080/"
        },
        "id": "iBm5UYx_h18v",
        "outputId": "473f5803-f916-4ef9-aa11-3cc2d468b47a"
      },
      "execution_count": null,
      "outputs": [
        {
          "output_type": "stream",
          "name": "stdout",
          "text": [
            "Hola Mundo\n",
            "80\n",
            "HelloHelloHelloHelloHelloHelloHelloHelloHelloHello\n",
            "End***Palabra-Separada\n",
            "**********\n",
            "20\n"
          ]
        }
      ]
    },
    {
      "cell_type": "code",
      "source": [
        "secret_number = 10\n",
        "attempt = int(input(\"Guess a Number between 1 and 10\"));\n",
        "\n",
        "while attempt != secret_number:\n",
        "  attempt = int(input(\"Try again: \"));\n",
        "print(\"CORRECT! \");\n"
      ],
      "metadata": {
        "colab": {
          "base_uri": "https://localhost:8080/"
        },
        "id": "zpxcxI0Crh4Y",
        "outputId": "efd5f75a-bcec-42f9-bfcf-aaff210cdf81"
      },
      "execution_count": null,
      "outputs": [
        {
          "output_type": "stream",
          "name": "stdout",
          "text": [
            "Guess a Number between 1 and 10 9\n",
            "Try again: 8\n",
            "Try again: 10\n",
            "CORRECT! \n"
          ]
        }
      ]
    },
    {
      "cell_type": "code",
      "source": [
        "numbers = [1, 2, 3, 4, 5]\n",
        "print(\"The adition is:\", sum(numbers))"
      ],
      "metadata": {
        "colab": {
          "base_uri": "https://localhost:8080/"
        },
        "id": "cgDKFRmhuT8Q",
        "outputId": "c2f2802c-a0de-4e9a-986a-d119fd5c18aa"
      },
      "execution_count": null,
      "outputs": [
        {
          "output_type": "stream",
          "name": "stdout",
          "text": [
            "The adition is: 15\n"
          ]
        }
      ]
    },
    {
      "cell_type": "code",
      "source": [
        "import math\n",
        "\n",
        "def circle_area(ratio):\n",
        "  return math.pi * ratio **2\n",
        "\n",
        "r = float(input(\"Input radius:\"));\n",
        "print(\"The area is\", circle_area(r));"
      ],
      "metadata": {
        "id": "prI7BSxevWOi"
      },
      "execution_count": null,
      "outputs": []
    },
    {
      "cell_type": "code",
      "source": [
        "input_user = input(\"insert the numbers with spaces: \")\n",
        "\n",
        "numbers = list(map(int, input_user.split()))\n",
        "\n",
        "result = numbers[0]\n",
        "for num in numbers[1:]:\n",
        "  result -= num\n",
        "\n",
        "  print(\"Result of the sustraction: \", result)"
      ],
      "metadata": {
        "id": "fV4hjXlUwPv4"
      },
      "execution_count": null,
      "outputs": []
    },
    {
      "cell_type": "markdown",
      "source": [
        "# Manejo de errores\n",
        "-----------------------"
      ],
      "metadata": {
        "id": "5yXa6gpx0w3l"
      }
    },
    {
      "cell_type": "code",
      "source": [
        "try:\n",
        "  a, b = input(\"input 2 Wholes\").split()\n",
        "  result = int(a)/int(b)\n",
        "  print('{}/{} = {}'.format(a, b, result));\n",
        "except:\n",
        "  print(\"Check if the integers are correctly entered.\");"
      ],
      "metadata": {
        "colab": {
          "base_uri": "https://localhost:8080/"
        },
        "id": "MksNmOGt1CWN",
        "outputId": "f5287cd5-b878-40a0-f6e8-cc01d70a259e"
      },
      "execution_count": null,
      "outputs": [
        {
          "output_type": "stream",
          "name": "stdout",
          "text": [
            "input 2 Wholes0 0\n",
            "Check if the integers are correctly enterd.\n"
          ]
        }
      ]
    },
    {
      "cell_type": "code",
      "source": [
        "a, b = input(\"input 2 Wholes\").split()\n",
        "result = int(a)/int(b)\n",
        "print('{}/{} = {}'.format(a, b, result));"
      ],
      "metadata": {
        "id": "tN1uKEM53PUF"
      },
      "execution_count": null,
      "outputs": []
    }
  ],
  "metadata": {
    "colab": {
      "provenance": [],
      "include_colab_link": true
    },
    "kernelspec": {
      "display_name": "Python 3",
      "name": "python3"
    }
  },
  "nbformat": 4,
  "nbformat_minor": 0
}